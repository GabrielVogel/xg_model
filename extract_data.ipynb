{
 "cells": [
  {
   "cell_type": "code",
   "execution_count": 1,
   "metadata": {},
   "outputs": [],
   "source": [
    "from statsbombpy import sb\n",
    "import pandas as pd\n",
    "from tqdm import tqdm_notebook as tqdm\n",
    "import warnings\n",
    "warnings.filterwarnings(\"ignore\")"
   ]
  },
  {
   "cell_type": "code",
   "execution_count": 2,
   "metadata": {},
   "outputs": [],
   "source": [
    "comp = sb.competitions()\n",
    "open_data = comp[(~comp['competition_name'].isin(['FIFA U20 World Cup','Indian Super league','North American League','Liga Profesional']))]"
   ]
  },
  {
   "cell_type": "code",
   "execution_count": 3,
   "metadata": {},
   "outputs": [],
   "source": [
    "to_iter = open_data[['competition_id','season_id','competition_name','season_name']]"
   ]
  },
  {
   "cell_type": "code",
   "execution_count": 4,
   "metadata": {},
   "outputs": [
    {
     "name": "stdout",
     "output_type": "stream",
     "text": [
      "1. Bundesliga 2015/2016\n"
     ]
    },
    {
     "data": {
      "application/vnd.jupyter.widget-view+json": {
       "model_id": "2fd80830aac248b196f76ac18c75f890",
       "version_major": 2,
       "version_minor": 0
      },
      "text/plain": [
       "  0%|          | 0/306 [00:00<?, ?it/s]"
      ]
     },
     "metadata": {},
     "output_type": "display_data"
    },
    {
     "name": "stdout",
     "output_type": "stream",
     "text": [
      "Champions League 2018/2019\n"
     ]
    },
    {
     "data": {
      "application/vnd.jupyter.widget-view+json": {
       "model_id": "089a1f35929e4d06b34575c4a56111a9",
       "version_major": 2,
       "version_minor": 0
      },
      "text/plain": [
       "  0%|          | 0/1 [00:00<?, ?it/s]"
      ]
     },
     "metadata": {},
     "output_type": "display_data"
    },
    {
     "name": "stdout",
     "output_type": "stream",
     "text": [
      "Champions League 2017/2018\n"
     ]
    },
    {
     "data": {
      "application/vnd.jupyter.widget-view+json": {
       "model_id": "47b1ee77a38a4c9aa89d3ac14a2b1039",
       "version_major": 2,
       "version_minor": 0
      },
      "text/plain": [
       "  0%|          | 0/1 [00:00<?, ?it/s]"
      ]
     },
     "metadata": {},
     "output_type": "display_data"
    },
    {
     "name": "stdout",
     "output_type": "stream",
     "text": [
      "Champions League 2016/2017\n"
     ]
    },
    {
     "data": {
      "application/vnd.jupyter.widget-view+json": {
       "model_id": "1c2b52da91d54dfaa0de5d1d26ff500a",
       "version_major": 2,
       "version_minor": 0
      },
      "text/plain": [
       "  0%|          | 0/1 [00:00<?, ?it/s]"
      ]
     },
     "metadata": {},
     "output_type": "display_data"
    },
    {
     "name": "stdout",
     "output_type": "stream",
     "text": [
      "Champions League 2015/2016\n"
     ]
    },
    {
     "data": {
      "application/vnd.jupyter.widget-view+json": {
       "model_id": "9914c4749f614eac91a4c5a20172d2e4",
       "version_major": 2,
       "version_minor": 0
      },
      "text/plain": [
       "  0%|          | 0/1 [00:00<?, ?it/s]"
      ]
     },
     "metadata": {},
     "output_type": "display_data"
    },
    {
     "name": "stdout",
     "output_type": "stream",
     "text": [
      "Champions League 2014/2015\n"
     ]
    },
    {
     "data": {
      "application/vnd.jupyter.widget-view+json": {
       "model_id": "cfc34f5396804302914b140ea1905852",
       "version_major": 2,
       "version_minor": 0
      },
      "text/plain": [
       "  0%|          | 0/1 [00:00<?, ?it/s]"
      ]
     },
     "metadata": {},
     "output_type": "display_data"
    },
    {
     "name": "stdout",
     "output_type": "stream",
     "text": [
      "Champions League 2013/2014\n"
     ]
    },
    {
     "data": {
      "application/vnd.jupyter.widget-view+json": {
       "model_id": "0b32b5c22180453e80cb3a542b0fbf0a",
       "version_major": 2,
       "version_minor": 0
      },
      "text/plain": [
       "  0%|          | 0/1 [00:00<?, ?it/s]"
      ]
     },
     "metadata": {},
     "output_type": "display_data"
    },
    {
     "name": "stdout",
     "output_type": "stream",
     "text": [
      "Champions League 2012/2013\n"
     ]
    },
    {
     "data": {
      "application/vnd.jupyter.widget-view+json": {
       "model_id": "4d698c2d37f943018e7f26c2c7b08aeb",
       "version_major": 2,
       "version_minor": 0
      },
      "text/plain": [
       "  0%|          | 0/1 [00:00<?, ?it/s]"
      ]
     },
     "metadata": {},
     "output_type": "display_data"
    },
    {
     "name": "stdout",
     "output_type": "stream",
     "text": [
      "Champions League 2011/2012\n"
     ]
    },
    {
     "data": {
      "application/vnd.jupyter.widget-view+json": {
       "model_id": "0bbdd1cf8741496097ecca69323a16d1",
       "version_major": 2,
       "version_minor": 0
      },
      "text/plain": [
       "  0%|          | 0/1 [00:00<?, ?it/s]"
      ]
     },
     "metadata": {},
     "output_type": "display_data"
    },
    {
     "name": "stdout",
     "output_type": "stream",
     "text": [
      "Champions League 2010/2011\n"
     ]
    },
    {
     "data": {
      "application/vnd.jupyter.widget-view+json": {
       "model_id": "533375dd13904d4b81dd4558e13eb287",
       "version_major": 2,
       "version_minor": 0
      },
      "text/plain": [
       "  0%|          | 0/1 [00:00<?, ?it/s]"
      ]
     },
     "metadata": {},
     "output_type": "display_data"
    },
    {
     "name": "stdout",
     "output_type": "stream",
     "text": [
      "Champions League 2009/2010\n"
     ]
    },
    {
     "data": {
      "application/vnd.jupyter.widget-view+json": {
       "model_id": "0f483467d11a42fb8ddbec9531a2d1da",
       "version_major": 2,
       "version_minor": 0
      },
      "text/plain": [
       "  0%|          | 0/1 [00:00<?, ?it/s]"
      ]
     },
     "metadata": {},
     "output_type": "display_data"
    },
    {
     "name": "stdout",
     "output_type": "stream",
     "text": [
      "Champions League 2008/2009\n"
     ]
    },
    {
     "data": {
      "application/vnd.jupyter.widget-view+json": {
       "model_id": "4f37d6b1b1bd4fe282d572ee355f543d",
       "version_major": 2,
       "version_minor": 0
      },
      "text/plain": [
       "  0%|          | 0/1 [00:00<?, ?it/s]"
      ]
     },
     "metadata": {},
     "output_type": "display_data"
    },
    {
     "name": "stdout",
     "output_type": "stream",
     "text": [
      "Champions League 2006/2007\n"
     ]
    },
    {
     "data": {
      "application/vnd.jupyter.widget-view+json": {
       "model_id": "1766552935f84cf5a581cdbe2705e04a",
       "version_major": 2,
       "version_minor": 0
      },
      "text/plain": [
       "  0%|          | 0/1 [00:00<?, ?it/s]"
      ]
     },
     "metadata": {},
     "output_type": "display_data"
    },
    {
     "name": "stdout",
     "output_type": "stream",
     "text": [
      "Champions League 2004/2005\n"
     ]
    },
    {
     "data": {
      "application/vnd.jupyter.widget-view+json": {
       "model_id": "cc3679e266d24bc38771393e203e5ea5",
       "version_major": 2,
       "version_minor": 0
      },
      "text/plain": [
       "  0%|          | 0/1 [00:00<?, ?it/s]"
      ]
     },
     "metadata": {},
     "output_type": "display_data"
    },
    {
     "name": "stdout",
     "output_type": "stream",
     "text": [
      "Champions League 2003/2004\n"
     ]
    },
    {
     "data": {
      "application/vnd.jupyter.widget-view+json": {
       "model_id": "54a1402262884875abdc6d2714716f41",
       "version_major": 2,
       "version_minor": 0
      },
      "text/plain": [
       "  0%|          | 0/1 [00:00<?, ?it/s]"
      ]
     },
     "metadata": {},
     "output_type": "display_data"
    },
    {
     "name": "stdout",
     "output_type": "stream",
     "text": [
      "Champions League 1999/2000\n",
      "An exception occurred\n",
      "Champions League 1972/1973\n"
     ]
    },
    {
     "data": {
      "application/vnd.jupyter.widget-view+json": {
       "model_id": "e22e6ca10c044a579d3e30539984eae4",
       "version_major": 2,
       "version_minor": 0
      },
      "text/plain": [
       "  0%|          | 0/1 [00:00<?, ?it/s]"
      ]
     },
     "metadata": {},
     "output_type": "display_data"
    },
    {
     "name": "stdout",
     "output_type": "stream",
     "text": [
      "Champions League 1971/1972\n"
     ]
    },
    {
     "data": {
      "application/vnd.jupyter.widget-view+json": {
       "model_id": "51ebe73618fd4988be1697a9537aa2cc",
       "version_major": 2,
       "version_minor": 0
      },
      "text/plain": [
       "  0%|          | 0/1 [00:00<?, ?it/s]"
      ]
     },
     "metadata": {},
     "output_type": "display_data"
    },
    {
     "name": "stdout",
     "output_type": "stream",
     "text": [
      "Champions League 1970/1971\n"
     ]
    },
    {
     "data": {
      "application/vnd.jupyter.widget-view+json": {
       "model_id": "c4b2f1b492f8481fa14f75753f54ddcf",
       "version_major": 2,
       "version_minor": 0
      },
      "text/plain": [
       "  0%|          | 0/1 [00:00<?, ?it/s]"
      ]
     },
     "metadata": {},
     "output_type": "display_data"
    },
    {
     "name": "stdout",
     "output_type": "stream",
     "text": [
      "Copa del Rey 1983/1984\n"
     ]
    },
    {
     "data": {
      "application/vnd.jupyter.widget-view+json": {
       "model_id": "fe601c026c5d4a90a98fa2b3d4956dc6",
       "version_major": 2,
       "version_minor": 0
      },
      "text/plain": [
       "  0%|          | 0/1 [00:00<?, ?it/s]"
      ]
     },
     "metadata": {},
     "output_type": "display_data"
    },
    {
     "name": "stdout",
     "output_type": "stream",
     "text": [
      "Copa del Rey 1982/1983\n"
     ]
    },
    {
     "data": {
      "application/vnd.jupyter.widget-view+json": {
       "model_id": "a3d6f456d6c24dec94ccf56b060ead64",
       "version_major": 2,
       "version_minor": 0
      },
      "text/plain": [
       "  0%|          | 0/1 [00:00<?, ?it/s]"
      ]
     },
     "metadata": {},
     "output_type": "display_data"
    },
    {
     "name": "stdout",
     "output_type": "stream",
     "text": [
      "Copa del Rey 1977/1978\n"
     ]
    },
    {
     "data": {
      "application/vnd.jupyter.widget-view+json": {
       "model_id": "205e4e95ea674c82add57b38620b3c93",
       "version_major": 2,
       "version_minor": 0
      },
      "text/plain": [
       "  0%|          | 0/1 [00:00<?, ?it/s]"
      ]
     },
     "metadata": {},
     "output_type": "display_data"
    },
    {
     "name": "stdout",
     "output_type": "stream",
     "text": [
      "FA Women's Super League 2020/2021\n"
     ]
    },
    {
     "data": {
      "application/vnd.jupyter.widget-view+json": {
       "model_id": "3c4110e5d25e48418438754c62aa63d6",
       "version_major": 2,
       "version_minor": 0
      },
      "text/plain": [
       "  0%|          | 0/131 [00:00<?, ?it/s]"
      ]
     },
     "metadata": {},
     "output_type": "display_data"
    },
    {
     "name": "stdout",
     "output_type": "stream",
     "text": [
      "FA Women's Super League 2019/2020\n"
     ]
    },
    {
     "data": {
      "application/vnd.jupyter.widget-view+json": {
       "model_id": "e758eb937ab040f995dbbce53bc44905",
       "version_major": 2,
       "version_minor": 0
      },
      "text/plain": [
       "  0%|          | 0/87 [00:00<?, ?it/s]"
      ]
     },
     "metadata": {},
     "output_type": "display_data"
    },
    {
     "name": "stdout",
     "output_type": "stream",
     "text": [
      "FA Women's Super League 2018/2019\n"
     ]
    },
    {
     "data": {
      "application/vnd.jupyter.widget-view+json": {
       "model_id": "c577ab6abc544ecfbc05e0b8cf04d8ec",
       "version_major": 2,
       "version_minor": 0
      },
      "text/plain": [
       "  0%|          | 0/108 [00:00<?, ?it/s]"
      ]
     },
     "metadata": {},
     "output_type": "display_data"
    },
    {
     "name": "stdout",
     "output_type": "stream",
     "text": [
      "FIFA World Cup 2022\n"
     ]
    },
    {
     "data": {
      "application/vnd.jupyter.widget-view+json": {
       "model_id": "c87a0ba528484d92b2c4f7f68f554450",
       "version_major": 2,
       "version_minor": 0
      },
      "text/plain": [
       "  0%|          | 0/64 [00:00<?, ?it/s]"
      ]
     },
     "metadata": {},
     "output_type": "display_data"
    },
    {
     "name": "stdout",
     "output_type": "stream",
     "text": [
      "FIFA World Cup 2018\n"
     ]
    },
    {
     "data": {
      "application/vnd.jupyter.widget-view+json": {
       "model_id": "ef83f623d39b43bd98a17f5bff8df928",
       "version_major": 2,
       "version_minor": 0
      },
      "text/plain": [
       "  0%|          | 0/64 [00:00<?, ?it/s]"
      ]
     },
     "metadata": {},
     "output_type": "display_data"
    },
    {
     "name": "stdout",
     "output_type": "stream",
     "text": [
      "FIFA World Cup 1990\n"
     ]
    },
    {
     "data": {
      "application/vnd.jupyter.widget-view+json": {
       "model_id": "870e685fb8634792b905a107986ee1a2",
       "version_major": 2,
       "version_minor": 0
      },
      "text/plain": [
       "  0%|          | 0/1 [00:00<?, ?it/s]"
      ]
     },
     "metadata": {},
     "output_type": "display_data"
    },
    {
     "name": "stdout",
     "output_type": "stream",
     "text": [
      "FIFA World Cup 1986\n"
     ]
    },
    {
     "data": {
      "application/vnd.jupyter.widget-view+json": {
       "model_id": "f2d99574e4564139a6c0d2e874b1a710",
       "version_major": 2,
       "version_minor": 0
      },
      "text/plain": [
       "  0%|          | 0/3 [00:00<?, ?it/s]"
      ]
     },
     "metadata": {},
     "output_type": "display_data"
    },
    {
     "name": "stdout",
     "output_type": "stream",
     "text": [
      "FIFA World Cup 1974\n"
     ]
    },
    {
     "data": {
      "application/vnd.jupyter.widget-view+json": {
       "model_id": "e95bdb7b704048ed895044b173448c00",
       "version_major": 2,
       "version_minor": 0
      },
      "text/plain": [
       "  0%|          | 0/6 [00:00<?, ?it/s]"
      ]
     },
     "metadata": {},
     "output_type": "display_data"
    },
    {
     "name": "stdout",
     "output_type": "stream",
     "text": [
      "FIFA World Cup 1970\n"
     ]
    },
    {
     "data": {
      "application/vnd.jupyter.widget-view+json": {
       "model_id": "e013cc88937440cabb28967f8421dd19",
       "version_major": 2,
       "version_minor": 0
      },
      "text/plain": [
       "  0%|          | 0/6 [00:00<?, ?it/s]"
      ]
     },
     "metadata": {},
     "output_type": "display_data"
    },
    {
     "name": "stdout",
     "output_type": "stream",
     "text": [
      "FIFA World Cup 1962\n"
     ]
    },
    {
     "data": {
      "application/vnd.jupyter.widget-view+json": {
       "model_id": "51b821e17f934737a5efafb1b844c5dc",
       "version_major": 2,
       "version_minor": 0
      },
      "text/plain": [
       "  0%|          | 0/1 [00:00<?, ?it/s]"
      ]
     },
     "metadata": {},
     "output_type": "display_data"
    },
    {
     "name": "stdout",
     "output_type": "stream",
     "text": [
      "FIFA World Cup 1958\n"
     ]
    },
    {
     "data": {
      "application/vnd.jupyter.widget-view+json": {
       "model_id": "7f91e63be6c54825b45cd06dd4ddde81",
       "version_major": 2,
       "version_minor": 0
      },
      "text/plain": [
       "  0%|          | 0/2 [00:00<?, ?it/s]"
      ]
     },
     "metadata": {},
     "output_type": "display_data"
    },
    {
     "name": "stdout",
     "output_type": "stream",
     "text": [
      "La Liga 2020/2021\n"
     ]
    },
    {
     "data": {
      "application/vnd.jupyter.widget-view+json": {
       "model_id": "b8ab24a154934d4ebbbc5578148298ad",
       "version_major": 2,
       "version_minor": 0
      },
      "text/plain": [
       "  0%|          | 0/35 [00:00<?, ?it/s]"
      ]
     },
     "metadata": {},
     "output_type": "display_data"
    },
    {
     "name": "stdout",
     "output_type": "stream",
     "text": [
      "La Liga 2019/2020\n"
     ]
    },
    {
     "data": {
      "application/vnd.jupyter.widget-view+json": {
       "model_id": "50bd5a73956a4fe3809a5c1354f7c0a0",
       "version_major": 2,
       "version_minor": 0
      },
      "text/plain": [
       "  0%|          | 0/33 [00:00<?, ?it/s]"
      ]
     },
     "metadata": {},
     "output_type": "display_data"
    },
    {
     "name": "stdout",
     "output_type": "stream",
     "text": [
      "La Liga 2018/2019\n"
     ]
    },
    {
     "data": {
      "application/vnd.jupyter.widget-view+json": {
       "model_id": "ea46b9ee75ad42e486c1f948b3937eec",
       "version_major": 2,
       "version_minor": 0
      },
      "text/plain": [
       "  0%|          | 0/34 [00:00<?, ?it/s]"
      ]
     },
     "metadata": {},
     "output_type": "display_data"
    },
    {
     "name": "stdout",
     "output_type": "stream",
     "text": [
      "La Liga 2017/2018\n"
     ]
    },
    {
     "data": {
      "application/vnd.jupyter.widget-view+json": {
       "model_id": "cdebbd9a85804324baf498d5b5b72ed5",
       "version_major": 2,
       "version_minor": 0
      },
      "text/plain": [
       "  0%|          | 0/36 [00:00<?, ?it/s]"
      ]
     },
     "metadata": {},
     "output_type": "display_data"
    },
    {
     "name": "stdout",
     "output_type": "stream",
     "text": [
      "La Liga 2016/2017\n"
     ]
    },
    {
     "data": {
      "application/vnd.jupyter.widget-view+json": {
       "model_id": "02516aa47a2e4372a93281d93f1362ef",
       "version_major": 2,
       "version_minor": 0
      },
      "text/plain": [
       "  0%|          | 0/34 [00:00<?, ?it/s]"
      ]
     },
     "metadata": {},
     "output_type": "display_data"
    },
    {
     "name": "stdout",
     "output_type": "stream",
     "text": [
      "La Liga 2015/2016\n"
     ]
    },
    {
     "data": {
      "application/vnd.jupyter.widget-view+json": {
       "model_id": "1c555f4d3e4f40a1814feb778ef6d087",
       "version_major": 2,
       "version_minor": 0
      },
      "text/plain": [
       "  0%|          | 0/380 [00:00<?, ?it/s]"
      ]
     },
     "metadata": {},
     "output_type": "display_data"
    },
    {
     "name": "stdout",
     "output_type": "stream",
     "text": [
      "La Liga 2014/2015\n"
     ]
    },
    {
     "data": {
      "application/vnd.jupyter.widget-view+json": {
       "model_id": "42689ab4e0bf434ab87a11d11e5e1a9a",
       "version_major": 2,
       "version_minor": 0
      },
      "text/plain": [
       "  0%|          | 0/38 [00:00<?, ?it/s]"
      ]
     },
     "metadata": {},
     "output_type": "display_data"
    },
    {
     "name": "stdout",
     "output_type": "stream",
     "text": [
      "La Liga 2013/2014\n"
     ]
    },
    {
     "data": {
      "application/vnd.jupyter.widget-view+json": {
       "model_id": "176644761f9045129ae8d483fe3e02b5",
       "version_major": 2,
       "version_minor": 0
      },
      "text/plain": [
       "  0%|          | 0/31 [00:00<?, ?it/s]"
      ]
     },
     "metadata": {},
     "output_type": "display_data"
    },
    {
     "name": "stdout",
     "output_type": "stream",
     "text": [
      "La Liga 2012/2013\n"
     ]
    },
    {
     "data": {
      "application/vnd.jupyter.widget-view+json": {
       "model_id": "11dc9c2691514276865c7a695fdc959a",
       "version_major": 2,
       "version_minor": 0
      },
      "text/plain": [
       "  0%|          | 0/32 [00:00<?, ?it/s]"
      ]
     },
     "metadata": {},
     "output_type": "display_data"
    },
    {
     "name": "stdout",
     "output_type": "stream",
     "text": [
      "La Liga 2011/2012\n"
     ]
    },
    {
     "data": {
      "application/vnd.jupyter.widget-view+json": {
       "model_id": "6a8481df613f400ea984b74a7a21bdd9",
       "version_major": 2,
       "version_minor": 0
      },
      "text/plain": [
       "  0%|          | 0/37 [00:00<?, ?it/s]"
      ]
     },
     "metadata": {},
     "output_type": "display_data"
    },
    {
     "name": "stdout",
     "output_type": "stream",
     "text": [
      "La Liga 2010/2011\n"
     ]
    },
    {
     "data": {
      "application/vnd.jupyter.widget-view+json": {
       "model_id": "ab2bc20a0717479fa3d72dcac80a486f",
       "version_major": 2,
       "version_minor": 0
      },
      "text/plain": [
       "  0%|          | 0/33 [00:00<?, ?it/s]"
      ]
     },
     "metadata": {},
     "output_type": "display_data"
    },
    {
     "name": "stdout",
     "output_type": "stream",
     "text": [
      "La Liga 2009/2010\n"
     ]
    },
    {
     "data": {
      "application/vnd.jupyter.widget-view+json": {
       "model_id": "c2b4e47bbc1c49d29b825091554da367",
       "version_major": 2,
       "version_minor": 0
      },
      "text/plain": [
       "  0%|          | 0/35 [00:00<?, ?it/s]"
      ]
     },
     "metadata": {},
     "output_type": "display_data"
    },
    {
     "name": "stdout",
     "output_type": "stream",
     "text": [
      "La Liga 2008/2009\n"
     ]
    },
    {
     "data": {
      "application/vnd.jupyter.widget-view+json": {
       "model_id": "eab1c71bde6b48c390a9f3d4c003ad60",
       "version_major": 2,
       "version_minor": 0
      },
      "text/plain": [
       "  0%|          | 0/31 [00:00<?, ?it/s]"
      ]
     },
     "metadata": {},
     "output_type": "display_data"
    },
    {
     "name": "stdout",
     "output_type": "stream",
     "text": [
      "La Liga 2007/2008\n"
     ]
    },
    {
     "data": {
      "application/vnd.jupyter.widget-view+json": {
       "model_id": "4cf33d3d02d74810a213b774e8c4c84e",
       "version_major": 2,
       "version_minor": 0
      },
      "text/plain": [
       "  0%|          | 0/28 [00:00<?, ?it/s]"
      ]
     },
     "metadata": {},
     "output_type": "display_data"
    },
    {
     "name": "stdout",
     "output_type": "stream",
     "text": [
      "La Liga 2006/2007\n"
     ]
    },
    {
     "data": {
      "application/vnd.jupyter.widget-view+json": {
       "model_id": "3b48bb4da94f47e48f1426c96a46bef0",
       "version_major": 2,
       "version_minor": 0
      },
      "text/plain": [
       "  0%|          | 0/26 [00:00<?, ?it/s]"
      ]
     },
     "metadata": {},
     "output_type": "display_data"
    },
    {
     "name": "stdout",
     "output_type": "stream",
     "text": [
      "La Liga 2005/2006\n"
     ]
    },
    {
     "data": {
      "application/vnd.jupyter.widget-view+json": {
       "model_id": "884889ceb99b4e6db832adcde43b6b93",
       "version_major": 2,
       "version_minor": 0
      },
      "text/plain": [
       "  0%|          | 0/17 [00:00<?, ?it/s]"
      ]
     },
     "metadata": {},
     "output_type": "display_data"
    },
    {
     "name": "stdout",
     "output_type": "stream",
     "text": [
      "La Liga 2004/2005\n"
     ]
    },
    {
     "data": {
      "application/vnd.jupyter.widget-view+json": {
       "model_id": "24f1849f1b9444fda836ce0af86f2cc9",
       "version_major": 2,
       "version_minor": 0
      },
      "text/plain": [
       "  0%|          | 0/7 [00:00<?, ?it/s]"
      ]
     },
     "metadata": {},
     "output_type": "display_data"
    },
    {
     "name": "stdout",
     "output_type": "stream",
     "text": [
      "La Liga 1973/1974\n"
     ]
    },
    {
     "data": {
      "application/vnd.jupyter.widget-view+json": {
       "model_id": "bd59abceebd84171829cc68cd2b059fe",
       "version_major": 2,
       "version_minor": 0
      },
      "text/plain": [
       "  0%|          | 0/1 [00:00<?, ?it/s]"
      ]
     },
     "metadata": {},
     "output_type": "display_data"
    },
    {
     "name": "stdout",
     "output_type": "stream",
     "text": [
      "Ligue 1 2015/2016\n"
     ]
    },
    {
     "data": {
      "application/vnd.jupyter.widget-view+json": {
       "model_id": "7cfc246eeb564be6804f64814576803a",
       "version_major": 2,
       "version_minor": 0
      },
      "text/plain": [
       "  0%|          | 0/377 [00:00<?, ?it/s]"
      ]
     },
     "metadata": {},
     "output_type": "display_data"
    },
    {
     "name": "stdout",
     "output_type": "stream",
     "text": [
      "NWSL 2018\n"
     ]
    },
    {
     "data": {
      "application/vnd.jupyter.widget-view+json": {
       "model_id": "e838bd5f776e4b43951b6d2597341774",
       "version_major": 2,
       "version_minor": 0
      },
      "text/plain": [
       "  0%|          | 0/36 [00:00<?, ?it/s]"
      ]
     },
     "metadata": {},
     "output_type": "display_data"
    },
    {
     "name": "stdout",
     "output_type": "stream",
     "text": [
      "Premier League 2015/2016\n"
     ]
    },
    {
     "data": {
      "application/vnd.jupyter.widget-view+json": {
       "model_id": "4c6b05ec9145472bb30753b0d3c988ba",
       "version_major": 2,
       "version_minor": 0
      },
      "text/plain": [
       "  0%|          | 0/380 [00:00<?, ?it/s]"
      ]
     },
     "metadata": {},
     "output_type": "display_data"
    },
    {
     "name": "stdout",
     "output_type": "stream",
     "text": [
      "Premier League 2003/2004\n"
     ]
    },
    {
     "data": {
      "application/vnd.jupyter.widget-view+json": {
       "model_id": "def711d8bae243cab6b0296cc5bc85a5",
       "version_major": 2,
       "version_minor": 0
      },
      "text/plain": [
       "  0%|          | 0/38 [00:00<?, ?it/s]"
      ]
     },
     "metadata": {},
     "output_type": "display_data"
    },
    {
     "name": "stdout",
     "output_type": "stream",
     "text": [
      "Serie A 2015/2016\n"
     ]
    },
    {
     "data": {
      "application/vnd.jupyter.widget-view+json": {
       "model_id": "3440268b83ca44e9b5218e4fc7d0c5a5",
       "version_major": 2,
       "version_minor": 0
      },
      "text/plain": [
       "  0%|          | 0/380 [00:00<?, ?it/s]"
      ]
     },
     "metadata": {},
     "output_type": "display_data"
    },
    {
     "name": "stdout",
     "output_type": "stream",
     "text": [
      "Serie A 1986/1987\n"
     ]
    },
    {
     "data": {
      "application/vnd.jupyter.widget-view+json": {
       "model_id": "201a963a27ed4712a4f97d4a9fcc49d8",
       "version_major": 2,
       "version_minor": 0
      },
      "text/plain": [
       "  0%|          | 0/1 [00:00<?, ?it/s]"
      ]
     },
     "metadata": {},
     "output_type": "display_data"
    },
    {
     "name": "stdout",
     "output_type": "stream",
     "text": [
      "UEFA Euro 2020\n"
     ]
    },
    {
     "data": {
      "application/vnd.jupyter.widget-view+json": {
       "model_id": "14d3c68dcbc44efab0efb76b72a7908a",
       "version_major": 2,
       "version_minor": 0
      },
      "text/plain": [
       "  0%|          | 0/51 [00:00<?, ?it/s]"
      ]
     },
     "metadata": {},
     "output_type": "display_data"
    },
    {
     "name": "stdout",
     "output_type": "stream",
     "text": [
      "UEFA Europa League 1988/1989\n"
     ]
    },
    {
     "data": {
      "application/vnd.jupyter.widget-view+json": {
       "model_id": "839fa6c05b4444979aaa6a9f4eebe62d",
       "version_major": 2,
       "version_minor": 0
      },
      "text/plain": [
       "  0%|          | 0/3 [00:00<?, ?it/s]"
      ]
     },
     "metadata": {},
     "output_type": "display_data"
    },
    {
     "name": "stdout",
     "output_type": "stream",
     "text": [
      "UEFA Women's Euro 2022\n"
     ]
    },
    {
     "data": {
      "application/vnd.jupyter.widget-view+json": {
       "model_id": "7296f7af2a9243d6a2bf6d26119e811a",
       "version_major": 2,
       "version_minor": 0
      },
      "text/plain": [
       "  0%|          | 0/31 [00:00<?, ?it/s]"
      ]
     },
     "metadata": {},
     "output_type": "display_data"
    },
    {
     "name": "stdout",
     "output_type": "stream",
     "text": [
      "Women's World Cup 2023\n"
     ]
    },
    {
     "data": {
      "application/vnd.jupyter.widget-view+json": {
       "model_id": "0ceb6fd204cc4d3895bd83bbd440ed2e",
       "version_major": 2,
       "version_minor": 0
      },
      "text/plain": [
       "  0%|          | 0/64 [00:00<?, ?it/s]"
      ]
     },
     "metadata": {},
     "output_type": "display_data"
    },
    {
     "name": "stdout",
     "output_type": "stream",
     "text": [
      "Women's World Cup 2019\n"
     ]
    },
    {
     "data": {
      "application/vnd.jupyter.widget-view+json": {
       "model_id": "4369c0ce249d42e5a33cfd6fd35dc56e",
       "version_major": 2,
       "version_minor": 0
      },
      "text/plain": [
       "  0%|          | 0/52 [00:00<?, ?it/s]"
      ]
     },
     "metadata": {},
     "output_type": "display_data"
    }
   ],
   "source": [
    "for _, (comp_id,season_id,comp_name,season_name ) in to_iter.iterrows():\n",
    "    print(f\"{comp_name} {season_name}\")\n",
    "    main_df = pd.DataFrame()\n",
    "    try:\n",
    "        matches = sb.matches(competition_id=comp_id,season_id=season_id)\n",
    "        for m in tqdm(matches['match_id'].unique()):\n",
    "            d = sb.events(match_id=m)\n",
    "            d['comp'] = comp_name\n",
    "            d_ = d.sort_values(by='timestamp').reset_index(drop=True)\n",
    "            open_play_shots = d_[d_['shot_type']=='Open Play']\n",
    "            play_before = d_.iloc[open_play_shots.index-1]['type']\n",
    "            open_play_shots = open_play_shots.reset_index(drop=True)\n",
    "            open_play_shots['play_before_type'] = play_before.reset_index(drop=True)\n",
    "            passes  = d[d['id'].isin(open_play_shots['shot_key_pass_id'])]\n",
    "            X = pd.merge(open_play_shots,passes,left_on='id',right_on='pass_assisted_shot_id',how='left',suffixes=['_shot','_pass'])\n",
    "            gk_events = d_[~d_['goalkeeper_position'].isna()]\n",
    "            gk_events['shot_event'] = gk_events['related_events'].apply(lambda x : None if type(x) != list else x[0])\n",
    "            X_ = pd.merge(X,gk_events[['shot_event','goalkeeper_position']],how='left',left_on='id_shot',right_on='shot_event',suffixes=['','_gk'])\n",
    "            X_['league'] = comp_name\n",
    "            X_['season'] = season_name\n",
    "            main_df = pd.concat([main_df,X_])\n",
    "        f_name = f'Data/{comp_name}{season_name.replace(\"/\",\"-\")}.csv'\n",
    "        main_df.to_csv(f_name,index=False)\n",
    "    except:\n",
    "        print(\"An exception occurred\")"
   ]
  },
  {
   "cell_type": "code",
   "execution_count": 5,
   "metadata": {},
   "outputs": [
    {
     "data": {
      "text/html": [
       "<div>\n",
       "<style scoped>\n",
       "    .dataframe tbody tr th:only-of-type {\n",
       "        vertical-align: middle;\n",
       "    }\n",
       "\n",
       "    .dataframe tbody tr th {\n",
       "        vertical-align: top;\n",
       "    }\n",
       "\n",
       "    .dataframe thead th {\n",
       "        text-align: right;\n",
       "    }\n",
       "</style>\n",
       "<table border=\"1\" class=\"dataframe\">\n",
       "  <thead>\n",
       "    <tr style=\"text-align: right;\">\n",
       "      <th></th>\n",
       "      <th>50_50_shot</th>\n",
       "      <th>ball_receipt_outcome_shot</th>\n",
       "      <th>ball_recovery_recovery_failure_shot</th>\n",
       "      <th>carry_end_location_shot</th>\n",
       "      <th>clearance_aerial_won_shot</th>\n",
       "      <th>clearance_body_part_shot</th>\n",
       "      <th>clearance_head_shot</th>\n",
       "      <th>clearance_left_foot_shot</th>\n",
       "      <th>clearance_right_foot_shot</th>\n",
       "      <th>counterpress_shot</th>\n",
       "      <th>...</th>\n",
       "      <th>team_pass</th>\n",
       "      <th>team_id_pass</th>\n",
       "      <th>timestamp_pass</th>\n",
       "      <th>type_pass</th>\n",
       "      <th>under_pressure_pass</th>\n",
       "      <th>comp_pass</th>\n",
       "      <th>shot_event</th>\n",
       "      <th>goalkeeper_position</th>\n",
       "      <th>league</th>\n",
       "      <th>season</th>\n",
       "    </tr>\n",
       "  </thead>\n",
       "  <tbody>\n",
       "    <tr>\n",
       "      <th>0</th>\n",
       "      <td>NaN</td>\n",
       "      <td>NaN</td>\n",
       "      <td>NaN</td>\n",
       "      <td>NaN</td>\n",
       "      <td>NaN</td>\n",
       "      <td>NaN</td>\n",
       "      <td>NaN</td>\n",
       "      <td>NaN</td>\n",
       "      <td>NaN</td>\n",
       "      <td>NaN</td>\n",
       "      <td>...</td>\n",
       "      <td>NaN</td>\n",
       "      <td>NaN</td>\n",
       "      <td>NaN</td>\n",
       "      <td>NaN</td>\n",
       "      <td>NaN</td>\n",
       "      <td>NaN</td>\n",
       "      <td>3331b7f4-1a94-4701-befb-5a8b6991c0cf</td>\n",
       "      <td>Set</td>\n",
       "      <td>Women's World Cup</td>\n",
       "      <td>2019</td>\n",
       "    </tr>\n",
       "    <tr>\n",
       "      <th>1</th>\n",
       "      <td>NaN</td>\n",
       "      <td>NaN</td>\n",
       "      <td>NaN</td>\n",
       "      <td>NaN</td>\n",
       "      <td>NaN</td>\n",
       "      <td>NaN</td>\n",
       "      <td>NaN</td>\n",
       "      <td>NaN</td>\n",
       "      <td>NaN</td>\n",
       "      <td>NaN</td>\n",
       "      <td>...</td>\n",
       "      <td>Spain Women's</td>\n",
       "      <td>863.0</td>\n",
       "      <td>00:07:51.824</td>\n",
       "      <td>Pass</td>\n",
       "      <td>NaN</td>\n",
       "      <td>Women's World Cup</td>\n",
       "      <td>f0a58dce-819f-4b42-a296-5fce1c0f8869</td>\n",
       "      <td>Set</td>\n",
       "      <td>Women's World Cup</td>\n",
       "      <td>2019</td>\n",
       "    </tr>\n",
       "    <tr>\n",
       "      <th>2</th>\n",
       "      <td>NaN</td>\n",
       "      <td>NaN</td>\n",
       "      <td>NaN</td>\n",
       "      <td>NaN</td>\n",
       "      <td>NaN</td>\n",
       "      <td>NaN</td>\n",
       "      <td>NaN</td>\n",
       "      <td>NaN</td>\n",
       "      <td>NaN</td>\n",
       "      <td>NaN</td>\n",
       "      <td>...</td>\n",
       "      <td>NaN</td>\n",
       "      <td>NaN</td>\n",
       "      <td>NaN</td>\n",
       "      <td>NaN</td>\n",
       "      <td>NaN</td>\n",
       "      <td>NaN</td>\n",
       "      <td>8e28db3b-ade6-454f-a64c-55e11a31753b</td>\n",
       "      <td>Set</td>\n",
       "      <td>Women's World Cup</td>\n",
       "      <td>2019</td>\n",
       "    </tr>\n",
       "    <tr>\n",
       "      <th>3</th>\n",
       "      <td>NaN</td>\n",
       "      <td>NaN</td>\n",
       "      <td>NaN</td>\n",
       "      <td>NaN</td>\n",
       "      <td>NaN</td>\n",
       "      <td>NaN</td>\n",
       "      <td>NaN</td>\n",
       "      <td>NaN</td>\n",
       "      <td>NaN</td>\n",
       "      <td>NaN</td>\n",
       "      <td>...</td>\n",
       "      <td>United States Women's</td>\n",
       "      <td>1214.0</td>\n",
       "      <td>00:12:45.631</td>\n",
       "      <td>Pass</td>\n",
       "      <td>NaN</td>\n",
       "      <td>Women's World Cup</td>\n",
       "      <td>ffad4bd3-7367-42d9-bfea-65d4f9326565</td>\n",
       "      <td>Set</td>\n",
       "      <td>Women's World Cup</td>\n",
       "      <td>2019</td>\n",
       "    </tr>\n",
       "    <tr>\n",
       "      <th>4</th>\n",
       "      <td>NaN</td>\n",
       "      <td>NaN</td>\n",
       "      <td>NaN</td>\n",
       "      <td>NaN</td>\n",
       "      <td>NaN</td>\n",
       "      <td>NaN</td>\n",
       "      <td>NaN</td>\n",
       "      <td>NaN</td>\n",
       "      <td>NaN</td>\n",
       "      <td>NaN</td>\n",
       "      <td>...</td>\n",
       "      <td>United States Women's</td>\n",
       "      <td>1214.0</td>\n",
       "      <td>00:13:18.535</td>\n",
       "      <td>Pass</td>\n",
       "      <td>NaN</td>\n",
       "      <td>Women's World Cup</td>\n",
       "      <td>4201f68c-764d-45bd-bcfb-96470a72c2e8</td>\n",
       "      <td>Set</td>\n",
       "      <td>Women's World Cup</td>\n",
       "      <td>2019</td>\n",
       "    </tr>\n",
       "    <tr>\n",
       "      <th>5</th>\n",
       "      <td>NaN</td>\n",
       "      <td>NaN</td>\n",
       "      <td>NaN</td>\n",
       "      <td>NaN</td>\n",
       "      <td>NaN</td>\n",
       "      <td>NaN</td>\n",
       "      <td>NaN</td>\n",
       "      <td>NaN</td>\n",
       "      <td>NaN</td>\n",
       "      <td>NaN</td>\n",
       "      <td>...</td>\n",
       "      <td>United States Women's</td>\n",
       "      <td>1214.0</td>\n",
       "      <td>00:14:27.063</td>\n",
       "      <td>Pass</td>\n",
       "      <td>True</td>\n",
       "      <td>Women's World Cup</td>\n",
       "      <td>b06051f7-ed65-4264-863d-65196bcca608</td>\n",
       "      <td>Set</td>\n",
       "      <td>Women's World Cup</td>\n",
       "      <td>2019</td>\n",
       "    </tr>\n",
       "    <tr>\n",
       "      <th>6</th>\n",
       "      <td>NaN</td>\n",
       "      <td>NaN</td>\n",
       "      <td>NaN</td>\n",
       "      <td>NaN</td>\n",
       "      <td>NaN</td>\n",
       "      <td>NaN</td>\n",
       "      <td>NaN</td>\n",
       "      <td>NaN</td>\n",
       "      <td>NaN</td>\n",
       "      <td>NaN</td>\n",
       "      <td>...</td>\n",
       "      <td>United States Women's</td>\n",
       "      <td>1214.0</td>\n",
       "      <td>00:16:45.525</td>\n",
       "      <td>Pass</td>\n",
       "      <td>NaN</td>\n",
       "      <td>Women's World Cup</td>\n",
       "      <td>900419be-a992-4704-8ba8-e646d6c19f71</td>\n",
       "      <td>Set</td>\n",
       "      <td>Women's World Cup</td>\n",
       "      <td>2019</td>\n",
       "    </tr>\n",
       "    <tr>\n",
       "      <th>7</th>\n",
       "      <td>NaN</td>\n",
       "      <td>NaN</td>\n",
       "      <td>NaN</td>\n",
       "      <td>NaN</td>\n",
       "      <td>NaN</td>\n",
       "      <td>NaN</td>\n",
       "      <td>NaN</td>\n",
       "      <td>NaN</td>\n",
       "      <td>NaN</td>\n",
       "      <td>NaN</td>\n",
       "      <td>...</td>\n",
       "      <td>United States Women's</td>\n",
       "      <td>1214.0</td>\n",
       "      <td>00:19:04.423</td>\n",
       "      <td>Pass</td>\n",
       "      <td>NaN</td>\n",
       "      <td>Women's World Cup</td>\n",
       "      <td>5582290f-1739-43d7-8d2b-37bcca19b844</td>\n",
       "      <td>Set</td>\n",
       "      <td>Women's World Cup</td>\n",
       "      <td>2019</td>\n",
       "    </tr>\n",
       "    <tr>\n",
       "      <th>8</th>\n",
       "      <td>NaN</td>\n",
       "      <td>NaN</td>\n",
       "      <td>NaN</td>\n",
       "      <td>NaN</td>\n",
       "      <td>NaN</td>\n",
       "      <td>NaN</td>\n",
       "      <td>NaN</td>\n",
       "      <td>NaN</td>\n",
       "      <td>NaN</td>\n",
       "      <td>NaN</td>\n",
       "      <td>...</td>\n",
       "      <td>Spain Women's</td>\n",
       "      <td>863.0</td>\n",
       "      <td>00:19:54.918</td>\n",
       "      <td>Pass</td>\n",
       "      <td>NaN</td>\n",
       "      <td>Women's World Cup</td>\n",
       "      <td>46b73a8c-f48c-4a25-a3ac-956bde0ebf7c</td>\n",
       "      <td>Set</td>\n",
       "      <td>Women's World Cup</td>\n",
       "      <td>2019</td>\n",
       "    </tr>\n",
       "    <tr>\n",
       "      <th>9</th>\n",
       "      <td>NaN</td>\n",
       "      <td>NaN</td>\n",
       "      <td>NaN</td>\n",
       "      <td>NaN</td>\n",
       "      <td>NaN</td>\n",
       "      <td>NaN</td>\n",
       "      <td>NaN</td>\n",
       "      <td>NaN</td>\n",
       "      <td>NaN</td>\n",
       "      <td>NaN</td>\n",
       "      <td>...</td>\n",
       "      <td>United States Women's</td>\n",
       "      <td>1214.0</td>\n",
       "      <td>00:24:53.221</td>\n",
       "      <td>Pass</td>\n",
       "      <td>NaN</td>\n",
       "      <td>Women's World Cup</td>\n",
       "      <td>e69b4657-15fb-4c6d-9042-082e4dedb3b3</td>\n",
       "      <td>Set</td>\n",
       "      <td>Women's World Cup</td>\n",
       "      <td>2019</td>\n",
       "    </tr>\n",
       "    <tr>\n",
       "      <th>10</th>\n",
       "      <td>NaN</td>\n",
       "      <td>NaN</td>\n",
       "      <td>NaN</td>\n",
       "      <td>NaN</td>\n",
       "      <td>NaN</td>\n",
       "      <td>NaN</td>\n",
       "      <td>NaN</td>\n",
       "      <td>NaN</td>\n",
       "      <td>NaN</td>\n",
       "      <td>NaN</td>\n",
       "      <td>...</td>\n",
       "      <td>United States Women's</td>\n",
       "      <td>1214.0</td>\n",
       "      <td>00:33:30.245</td>\n",
       "      <td>Pass</td>\n",
       "      <td>True</td>\n",
       "      <td>Women's World Cup</td>\n",
       "      <td>668e5f58-acff-49bc-bfec-23cacc20b414</td>\n",
       "      <td>Set</td>\n",
       "      <td>Women's World Cup</td>\n",
       "      <td>2019</td>\n",
       "    </tr>\n",
       "    <tr>\n",
       "      <th>11</th>\n",
       "      <td>NaN</td>\n",
       "      <td>NaN</td>\n",
       "      <td>NaN</td>\n",
       "      <td>NaN</td>\n",
       "      <td>NaN</td>\n",
       "      <td>NaN</td>\n",
       "      <td>NaN</td>\n",
       "      <td>NaN</td>\n",
       "      <td>NaN</td>\n",
       "      <td>NaN</td>\n",
       "      <td>...</td>\n",
       "      <td>United States Women's</td>\n",
       "      <td>1214.0</td>\n",
       "      <td>00:34:25.558</td>\n",
       "      <td>Pass</td>\n",
       "      <td>NaN</td>\n",
       "      <td>Women's World Cup</td>\n",
       "      <td>d732be47-25cc-4380-aa50-0ae475b1a177</td>\n",
       "      <td>Set</td>\n",
       "      <td>Women's World Cup</td>\n",
       "      <td>2019</td>\n",
       "    </tr>\n",
       "    <tr>\n",
       "      <th>12</th>\n",
       "      <td>NaN</td>\n",
       "      <td>NaN</td>\n",
       "      <td>NaN</td>\n",
       "      <td>NaN</td>\n",
       "      <td>NaN</td>\n",
       "      <td>NaN</td>\n",
       "      <td>NaN</td>\n",
       "      <td>NaN</td>\n",
       "      <td>NaN</td>\n",
       "      <td>NaN</td>\n",
       "      <td>...</td>\n",
       "      <td>United States Women's</td>\n",
       "      <td>1214.0</td>\n",
       "      <td>00:35:06.562</td>\n",
       "      <td>Pass</td>\n",
       "      <td>True</td>\n",
       "      <td>Women's World Cup</td>\n",
       "      <td>8131a8ba-9f7a-4f6f-aa1a-ead22eb0a9c9</td>\n",
       "      <td>Set</td>\n",
       "      <td>Women's World Cup</td>\n",
       "      <td>2019</td>\n",
       "    </tr>\n",
       "  </tbody>\n",
       "</table>\n",
       "<p>13 rows × 179 columns</p>\n",
       "</div>"
      ],
      "text/plain": [
       "   50_50_shot ball_receipt_outcome_shot ball_recovery_recovery_failure_shot  \\\n",
       "0         NaN                       NaN                                 NaN   \n",
       "1         NaN                       NaN                                 NaN   \n",
       "2         NaN                       NaN                                 NaN   \n",
       "3         NaN                       NaN                                 NaN   \n",
       "4         NaN                       NaN                                 NaN   \n",
       "5         NaN                       NaN                                 NaN   \n",
       "6         NaN                       NaN                                 NaN   \n",
       "7         NaN                       NaN                                 NaN   \n",
       "8         NaN                       NaN                                 NaN   \n",
       "9         NaN                       NaN                                 NaN   \n",
       "10        NaN                       NaN                                 NaN   \n",
       "11        NaN                       NaN                                 NaN   \n",
       "12        NaN                       NaN                                 NaN   \n",
       "\n",
       "   carry_end_location_shot clearance_aerial_won_shot clearance_body_part_shot  \\\n",
       "0                      NaN                       NaN                      NaN   \n",
       "1                      NaN                       NaN                      NaN   \n",
       "2                      NaN                       NaN                      NaN   \n",
       "3                      NaN                       NaN                      NaN   \n",
       "4                      NaN                       NaN                      NaN   \n",
       "5                      NaN                       NaN                      NaN   \n",
       "6                      NaN                       NaN                      NaN   \n",
       "7                      NaN                       NaN                      NaN   \n",
       "8                      NaN                       NaN                      NaN   \n",
       "9                      NaN                       NaN                      NaN   \n",
       "10                     NaN                       NaN                      NaN   \n",
       "11                     NaN                       NaN                      NaN   \n",
       "12                     NaN                       NaN                      NaN   \n",
       "\n",
       "   clearance_head_shot clearance_left_foot_shot clearance_right_foot_shot  \\\n",
       "0                  NaN                      NaN                       NaN   \n",
       "1                  NaN                      NaN                       NaN   \n",
       "2                  NaN                      NaN                       NaN   \n",
       "3                  NaN                      NaN                       NaN   \n",
       "4                  NaN                      NaN                       NaN   \n",
       "5                  NaN                      NaN                       NaN   \n",
       "6                  NaN                      NaN                       NaN   \n",
       "7                  NaN                      NaN                       NaN   \n",
       "8                  NaN                      NaN                       NaN   \n",
       "9                  NaN                      NaN                       NaN   \n",
       "10                 NaN                      NaN                       NaN   \n",
       "11                 NaN                      NaN                       NaN   \n",
       "12                 NaN                      NaN                       NaN   \n",
       "\n",
       "   counterpress_shot  ...              team_pass team_id_pass timestamp_pass  \\\n",
       "0                NaN  ...                    NaN          NaN            NaN   \n",
       "1                NaN  ...          Spain Women's        863.0   00:07:51.824   \n",
       "2                NaN  ...                    NaN          NaN            NaN   \n",
       "3                NaN  ...  United States Women's       1214.0   00:12:45.631   \n",
       "4                NaN  ...  United States Women's       1214.0   00:13:18.535   \n",
       "5                NaN  ...  United States Women's       1214.0   00:14:27.063   \n",
       "6                NaN  ...  United States Women's       1214.0   00:16:45.525   \n",
       "7                NaN  ...  United States Women's       1214.0   00:19:04.423   \n",
       "8                NaN  ...          Spain Women's        863.0   00:19:54.918   \n",
       "9                NaN  ...  United States Women's       1214.0   00:24:53.221   \n",
       "10               NaN  ...  United States Women's       1214.0   00:33:30.245   \n",
       "11               NaN  ...  United States Women's       1214.0   00:34:25.558   \n",
       "12               NaN  ...  United States Women's       1214.0   00:35:06.562   \n",
       "\n",
       "   type_pass  under_pressure_pass          comp_pass  \\\n",
       "0        NaN                  NaN                NaN   \n",
       "1       Pass                  NaN  Women's World Cup   \n",
       "2        NaN                  NaN                NaN   \n",
       "3       Pass                  NaN  Women's World Cup   \n",
       "4       Pass                  NaN  Women's World Cup   \n",
       "5       Pass                 True  Women's World Cup   \n",
       "6       Pass                  NaN  Women's World Cup   \n",
       "7       Pass                  NaN  Women's World Cup   \n",
       "8       Pass                  NaN  Women's World Cup   \n",
       "9       Pass                  NaN  Women's World Cup   \n",
       "10      Pass                 True  Women's World Cup   \n",
       "11      Pass                  NaN  Women's World Cup   \n",
       "12      Pass                 True  Women's World Cup   \n",
       "\n",
       "                              shot_event goalkeeper_position  \\\n",
       "0   3331b7f4-1a94-4701-befb-5a8b6991c0cf                 Set   \n",
       "1   f0a58dce-819f-4b42-a296-5fce1c0f8869                 Set   \n",
       "2   8e28db3b-ade6-454f-a64c-55e11a31753b                 Set   \n",
       "3   ffad4bd3-7367-42d9-bfea-65d4f9326565                 Set   \n",
       "4   4201f68c-764d-45bd-bcfb-96470a72c2e8                 Set   \n",
       "5   b06051f7-ed65-4264-863d-65196bcca608                 Set   \n",
       "6   900419be-a992-4704-8ba8-e646d6c19f71                 Set   \n",
       "7   5582290f-1739-43d7-8d2b-37bcca19b844                 Set   \n",
       "8   46b73a8c-f48c-4a25-a3ac-956bde0ebf7c                 Set   \n",
       "9   e69b4657-15fb-4c6d-9042-082e4dedb3b3                 Set   \n",
       "10  668e5f58-acff-49bc-bfec-23cacc20b414                 Set   \n",
       "11  d732be47-25cc-4380-aa50-0ae475b1a177                 Set   \n",
       "12  8131a8ba-9f7a-4f6f-aa1a-ead22eb0a9c9                 Set   \n",
       "\n",
       "               league season  \n",
       "0   Women's World Cup   2019  \n",
       "1   Women's World Cup   2019  \n",
       "2   Women's World Cup   2019  \n",
       "3   Women's World Cup   2019  \n",
       "4   Women's World Cup   2019  \n",
       "5   Women's World Cup   2019  \n",
       "6   Women's World Cup   2019  \n",
       "7   Women's World Cup   2019  \n",
       "8   Women's World Cup   2019  \n",
       "9   Women's World Cup   2019  \n",
       "10  Women's World Cup   2019  \n",
       "11  Women's World Cup   2019  \n",
       "12  Women's World Cup   2019  \n",
       "\n",
       "[13 rows x 179 columns]"
      ]
     },
     "execution_count": 5,
     "metadata": {},
     "output_type": "execute_result"
    }
   ],
   "source": [
    "X_"
   ]
  }
 ],
 "metadata": {
  "kernelspec": {
   "display_name": "interpret_ml",
   "language": "python",
   "name": "python3"
  },
  "language_info": {
   "codemirror_mode": {
    "name": "ipython",
    "version": 3
   },
   "file_extension": ".py",
   "mimetype": "text/x-python",
   "name": "python",
   "nbconvert_exporter": "python",
   "pygments_lexer": "ipython3",
   "version": "3.9.13"
  }
 },
 "nbformat": 4,
 "nbformat_minor": 2
}
