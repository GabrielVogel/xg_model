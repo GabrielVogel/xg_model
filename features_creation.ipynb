{
 "cells": [
  {
   "cell_type": "code",
   "execution_count": 1,
   "metadata": {},
   "outputs": [],
   "source": [
    "from xg.utils import read_all_files,read_main_foot_data\n",
    "from xg.features_new import *"
   ]
  },
  {
   "cell_type": "code",
   "execution_count": 2,
   "metadata": {},
   "outputs": [
    {
     "name": "stderr",
     "output_type": "stream",
     "text": [
      "c:\\Users\\Gabriel\\Desktop\\TCCv2\\xg\\utils.py:6: DtypeWarning: Columns (125,131,172,227,236) have mixed types. Specify dtype option on import or set low_memory=False.\n",
      "  df_shots = pd.read_csv(path)\n"
     ]
    }
   ],
   "source": [
    "df = read_file(\"Output/Data.csv\")"
   ]
  },
  {
   "cell_type": "code",
   "execution_count": 5,
   "metadata": {},
   "outputs": [],
   "source": [
    "main_foot = read_main_foot_data(\"Output/main_foot.json\")"
   ]
  },
  {
   "cell_type": "code",
   "execution_count": 6,
   "metadata": {},
   "outputs": [],
   "source": [
    "STATSBOMB = get_statsbomb_features(df)"
   ]
  },
  {
   "cell_type": "code",
   "execution_count": 7,
   "metadata": {},
   "outputs": [
    {
     "name": "stderr",
     "output_type": "stream",
     "text": [
      "C:\\Users\\Gabriel\\AppData\\Local\\Temp\\ipykernel_4076\\1049424894.py:1: SettingWithCopyWarning: \n",
      "A value is trying to be set on a copy of a slice from a DataFrame.\n",
      "Try using .loc[row_indexer,col_indexer] = value instead\n",
      "\n",
      "See the caveats in the documentation: https://pandas.pydata.org/pandas-docs/stable/user_guide/indexing.html#returning-a-view-versus-a-copy\n",
      "  STATSBOMB['distance_to_goal'] = STATSBOMB['location_shot'].apply(lambda x: distance_to_goal(x))\n",
      "C:\\Users\\Gabriel\\AppData\\Local\\Temp\\ipykernel_4076\\1049424894.py:2: SettingWithCopyWarning: \n",
      "A value is trying to be set on a copy of a slice from a DataFrame.\n",
      "Try using .loc[row_indexer,col_indexer] = value instead\n",
      "\n",
      "See the caveats in the documentation: https://pandas.pydata.org/pandas-docs/stable/user_guide/indexing.html#returning-a-view-versus-a-copy\n",
      "  STATSBOMB['angle_to_goal'] = STATSBOMB['location_shot'].apply(lambda x : angle_to_goal(x))\n",
      "C:\\Users\\Gabriel\\AppData\\Local\\Temp\\ipykernel_4076\\1049424894.py:3: SettingWithCopyWarning: \n",
      "A value is trying to be set on a copy of a slice from a DataFrame.\n",
      "Try using .loc[row_indexer,col_indexer] = value instead\n",
      "\n",
      "See the caveats in the documentation: https://pandas.pydata.org/pandas-docs/stable/user_guide/indexing.html#returning-a-view-versus-a-copy\n",
      "  STATSBOMB['shot_body_part_mf'] = STATSBOMB.apply(lambda x : is_shot_with_main_foot(x['player_shot'],x['shot_body_part_shot'],main_foot),axis=1)\n",
      "C:\\Users\\Gabriel\\AppData\\Local\\Temp\\ipykernel_4076\\1049424894.py:4: SettingWithCopyWarning: \n",
      "A value is trying to be set on a copy of a slice from a DataFrame.\n",
      "Try using .loc[row_indexer,col_indexer] = value instead\n",
      "\n",
      "See the caveats in the documentation: https://pandas.pydata.org/pandas-docs/stable/user_guide/indexing.html#returning-a-view-versus-a-copy\n",
      "  STATSBOMB['goal'] = STATSBOMB['shot_outcome_shot'].apply(lambda x : is_goal(x))\n",
      "C:\\Users\\Gabriel\\AppData\\Local\\Temp\\ipykernel_4076\\1049424894.py:5: SettingWithCopyWarning: \n",
      "A value is trying to be set on a copy of a slice from a DataFrame.\n",
      "Try using .loc[row_indexer,col_indexer] = value instead\n",
      "\n",
      "See the caveats in the documentation: https://pandas.pydata.org/pandas-docs/stable/user_guide/indexing.html#returning-a-view-versus-a-copy\n",
      "  STATSBOMB['goalkeeper_distance_to_goal']  = STATSBOMB['shot_freeze_frame_shot'].apply(lambda x : goalkeeper_distance_to_goal(x))\n",
      "C:\\Users\\Gabriel\\AppData\\Local\\Temp\\ipykernel_4076\\1049424894.py:6: SettingWithCopyWarning: \n",
      "A value is trying to be set on a copy of a slice from a DataFrame.\n",
      "Try using .loc[row_indexer,col_indexer] = value instead\n",
      "\n",
      "See the caveats in the documentation: https://pandas.pydata.org/pandas-docs/stable/user_guide/indexing.html#returning-a-view-versus-a-copy\n",
      "  STATSBOMB['goalkeeper_distance_to_shot']  = STATSBOMB.apply(lambda x : distance_goalkeeper_to_player(x['location_shot'],x['shot_freeze_frame_shot']),axis=1)\n"
     ]
    }
   ],
   "source": [
    "STATSBOMB['distance_to_goal'] = STATSBOMB['location_shot'].apply(lambda x: distance_to_goal(x))\n",
    "STATSBOMB['angle_to_goal'] = STATSBOMB['location_shot'].apply(lambda x : angle_to_goal(x))\n",
    "STATSBOMB['shot_body_part_mf'] = STATSBOMB.apply(lambda x : is_shot_with_main_foot(x['player_shot'],x['shot_body_part_shot'],main_foot),axis=1)\n",
    "STATSBOMB['goal'] = STATSBOMB['shot_outcome_shot'].apply(lambda x : is_goal(x))\n",
    "STATSBOMB['goalkeeper_distance_to_goal']  = STATSBOMB['shot_freeze_frame_shot'].apply(lambda x : goalkeeper_distance_to_goal(x))\n",
    "STATSBOMB['goalkeeper_distance_to_shot']  = STATSBOMB.apply(lambda x : distance_goalkeeper_to_player(x['location_shot'],x['shot_freeze_frame_shot']),axis=1)"
   ]
  },
  {
   "cell_type": "code",
   "execution_count": 8,
   "metadata": {},
   "outputs": [
    {
     "ename": "KeyboardInterrupt",
     "evalue": "",
     "output_type": "error",
     "traceback": [
      "\u001b[1;31m---------------------------------------------------------------------------\u001b[0m",
      "\u001b[1;31mKeyboardInterrupt\u001b[0m                         Traceback (most recent call last)",
      "\u001b[1;32mc:\\Users\\Gabriel\\Desktop\\TCCv2\\tests.ipynb Cell 7\u001b[0m line \u001b[0;36m1\n\u001b[1;32m----> <a href='vscode-notebook-cell:/c%3A/Users/Gabriel/Desktop/TCCv2/tests.ipynb#W5sZmlsZQ%3D%3D?line=0'>1</a>\u001b[0m pa \u001b[39m=\u001b[39m STATSBOMB\u001b[39m.\u001b[39;49mapply(\u001b[39mlambda\u001b[39;49;00m x : players_between_goal(x[\u001b[39m'\u001b[39;49m\u001b[39mlocation_shot\u001b[39;49m\u001b[39m'\u001b[39;49m],x[\u001b[39m'\u001b[39;49m\u001b[39mshot_freeze_frame_shot\u001b[39;49m\u001b[39m'\u001b[39;49m]),axis\u001b[39m=\u001b[39;49m\u001b[39m1\u001b[39;49m)\n\u001b[0;32m      <a href='vscode-notebook-cell:/c%3A/Users/Gabriel/Desktop/TCCv2/tests.ipynb#W5sZmlsZQ%3D%3D?line=1'>2</a>\u001b[0m STATSBOMB[\u001b[39m'\u001b[39m\u001b[39mplayers_between_shot_and_goal\u001b[39m\u001b[39m'\u001b[39m] \u001b[39m=\u001b[39m [p[\u001b[39m0\u001b[39m] \u001b[39mfor\u001b[39;00m p \u001b[39min\u001b[39;00m pa]\n\u001b[0;32m      <a href='vscode-notebook-cell:/c%3A/Users/Gabriel/Desktop/TCCv2/tests.ipynb#W5sZmlsZQ%3D%3D?line=2'>3</a>\u001b[0m STATSBOMB[\u001b[39m'\u001b[39m\u001b[39mplayers_in_radius\u001b[39m\u001b[39m'\u001b[39m] \u001b[39m=\u001b[39m [p[\u001b[39m1\u001b[39m] \u001b[39mfor\u001b[39;00m p \u001b[39min\u001b[39;00m pa]\n",
      "File \u001b[1;32m~\\AppData\\Local\\Packages\\PythonSoftwareFoundation.Python.3.9_qbz5n2kfra8p0\\LocalCache\\local-packages\\Python39\\site-packages\\pandas\\core\\frame.py:10037\u001b[0m, in \u001b[0;36mDataFrame.apply\u001b[1;34m(self, func, axis, raw, result_type, args, by_row, **kwargs)\u001b[0m\n\u001b[0;32m  10025\u001b[0m \u001b[39mfrom\u001b[39;00m \u001b[39mpandas\u001b[39;00m\u001b[39m.\u001b[39;00m\u001b[39mcore\u001b[39;00m\u001b[39m.\u001b[39;00m\u001b[39mapply\u001b[39;00m \u001b[39mimport\u001b[39;00m frame_apply\n\u001b[0;32m  10027\u001b[0m op \u001b[39m=\u001b[39m frame_apply(\n\u001b[0;32m  10028\u001b[0m     \u001b[39mself\u001b[39m,\n\u001b[0;32m  10029\u001b[0m     func\u001b[39m=\u001b[39mfunc,\n\u001b[1;32m   (...)\u001b[0m\n\u001b[0;32m  10035\u001b[0m     kwargs\u001b[39m=\u001b[39mkwargs,\n\u001b[0;32m  10036\u001b[0m )\n\u001b[1;32m> 10037\u001b[0m \u001b[39mreturn\u001b[39;00m op\u001b[39m.\u001b[39;49mapply()\u001b[39m.\u001b[39m__finalize__(\u001b[39mself\u001b[39m, method\u001b[39m=\u001b[39m\u001b[39m\"\u001b[39m\u001b[39mapply\u001b[39m\u001b[39m\"\u001b[39m)\n",
      "File \u001b[1;32m~\\AppData\\Local\\Packages\\PythonSoftwareFoundation.Python.3.9_qbz5n2kfra8p0\\LocalCache\\local-packages\\Python39\\site-packages\\pandas\\core\\apply.py:837\u001b[0m, in \u001b[0;36mFrameApply.apply\u001b[1;34m(self)\u001b[0m\n\u001b[0;32m    834\u001b[0m \u001b[39melif\u001b[39;00m \u001b[39mself\u001b[39m\u001b[39m.\u001b[39mraw:\n\u001b[0;32m    835\u001b[0m     \u001b[39mreturn\u001b[39;00m \u001b[39mself\u001b[39m\u001b[39m.\u001b[39mapply_raw()\n\u001b[1;32m--> 837\u001b[0m \u001b[39mreturn\u001b[39;00m \u001b[39mself\u001b[39;49m\u001b[39m.\u001b[39;49mapply_standard()\n",
      "File \u001b[1;32m~\\AppData\\Local\\Packages\\PythonSoftwareFoundation.Python.3.9_qbz5n2kfra8p0\\LocalCache\\local-packages\\Python39\\site-packages\\pandas\\core\\apply.py:963\u001b[0m, in \u001b[0;36mFrameApply.apply_standard\u001b[1;34m(self)\u001b[0m\n\u001b[0;32m    962\u001b[0m \u001b[39mdef\u001b[39;00m \u001b[39mapply_standard\u001b[39m(\u001b[39mself\u001b[39m):\n\u001b[1;32m--> 963\u001b[0m     results, res_index \u001b[39m=\u001b[39m \u001b[39mself\u001b[39;49m\u001b[39m.\u001b[39;49mapply_series_generator()\n\u001b[0;32m    965\u001b[0m     \u001b[39m# wrap results\u001b[39;00m\n\u001b[0;32m    966\u001b[0m     \u001b[39mreturn\u001b[39;00m \u001b[39mself\u001b[39m\u001b[39m.\u001b[39mwrap_results(results, res_index)\n",
      "File \u001b[1;32m~\\AppData\\Local\\Packages\\PythonSoftwareFoundation.Python.3.9_qbz5n2kfra8p0\\LocalCache\\local-packages\\Python39\\site-packages\\pandas\\core\\apply.py:979\u001b[0m, in \u001b[0;36mFrameApply.apply_series_generator\u001b[1;34m(self)\u001b[0m\n\u001b[0;32m    976\u001b[0m \u001b[39mwith\u001b[39;00m option_context(\u001b[39m\"\u001b[39m\u001b[39mmode.chained_assignment\u001b[39m\u001b[39m\"\u001b[39m, \u001b[39mNone\u001b[39;00m):\n\u001b[0;32m    977\u001b[0m     \u001b[39mfor\u001b[39;00m i, v \u001b[39min\u001b[39;00m \u001b[39menumerate\u001b[39m(series_gen):\n\u001b[0;32m    978\u001b[0m         \u001b[39m# ignore SettingWithCopy here in case the user mutates\u001b[39;00m\n\u001b[1;32m--> 979\u001b[0m         results[i] \u001b[39m=\u001b[39m \u001b[39mself\u001b[39m\u001b[39m.\u001b[39mfunc(v, \u001b[39m*\u001b[39m\u001b[39mself\u001b[39m\u001b[39m.\u001b[39margs, \u001b[39m*\u001b[39m\u001b[39m*\u001b[39m\u001b[39mself\u001b[39m\u001b[39m.\u001b[39mkwargs)\n\u001b[0;32m    980\u001b[0m         \u001b[39mif\u001b[39;00m \u001b[39misinstance\u001b[39m(results[i], ABCSeries):\n\u001b[0;32m    981\u001b[0m             \u001b[39m# If we have a view on v, we need to make a copy because\u001b[39;00m\n\u001b[0;32m    982\u001b[0m             \u001b[39m#  series_generator will swap out the underlying data\u001b[39;00m\n\u001b[0;32m    983\u001b[0m             results[i] \u001b[39m=\u001b[39m results[i]\u001b[39m.\u001b[39mcopy(deep\u001b[39m=\u001b[39m\u001b[39mFalse\u001b[39;00m)\n",
      "\u001b[1;32mc:\\Users\\Gabriel\\Desktop\\TCCv2\\tests.ipynb Cell 7\u001b[0m line \u001b[0;36m1\n\u001b[1;32m----> <a href='vscode-notebook-cell:/c%3A/Users/Gabriel/Desktop/TCCv2/tests.ipynb#W5sZmlsZQ%3D%3D?line=0'>1</a>\u001b[0m pa \u001b[39m=\u001b[39m STATSBOMB\u001b[39m.\u001b[39mapply(\u001b[39mlambda\u001b[39;00m x : players_between_goal(x[\u001b[39m'\u001b[39;49m\u001b[39mlocation_shot\u001b[39;49m\u001b[39m'\u001b[39;49m],x[\u001b[39m'\u001b[39;49m\u001b[39mshot_freeze_frame_shot\u001b[39;49m\u001b[39m'\u001b[39;49m]),axis\u001b[39m=\u001b[39m\u001b[39m1\u001b[39m)\n\u001b[0;32m      <a href='vscode-notebook-cell:/c%3A/Users/Gabriel/Desktop/TCCv2/tests.ipynb#W5sZmlsZQ%3D%3D?line=1'>2</a>\u001b[0m STATSBOMB[\u001b[39m'\u001b[39m\u001b[39mplayers_between_shot_and_goal\u001b[39m\u001b[39m'\u001b[39m] \u001b[39m=\u001b[39m [p[\u001b[39m0\u001b[39m] \u001b[39mfor\u001b[39;00m p \u001b[39min\u001b[39;00m pa]\n\u001b[0;32m      <a href='vscode-notebook-cell:/c%3A/Users/Gabriel/Desktop/TCCv2/tests.ipynb#W5sZmlsZQ%3D%3D?line=2'>3</a>\u001b[0m STATSBOMB[\u001b[39m'\u001b[39m\u001b[39mplayers_in_radius\u001b[39m\u001b[39m'\u001b[39m] \u001b[39m=\u001b[39m [p[\u001b[39m1\u001b[39m] \u001b[39mfor\u001b[39;00m p \u001b[39min\u001b[39;00m pa]\n",
      "File \u001b[1;32mc:\\Users\\Gabriel\\Desktop\\TCCv2\\xg\\features_new.py:113\u001b[0m, in \u001b[0;36mplayers_between_goal\u001b[1;34m(shot, frame)\u001b[0m\n\u001b[0;32m    109\u001b[0m a,b \u001b[39m=\u001b[39m opp_matrix_gaussian\u001b[39m.\u001b[39mnonzero()\n\u001b[0;32m    110\u001b[0m pairs \u001b[39m=\u001b[39m np\u001b[39m.\u001b[39marray(\u001b[39mlist\u001b[39m(\u001b[39mzip\u001b[39m(a,b)))\n\u001b[1;32m--> 113\u001b[0m inside_triangle \u001b[39m=\u001b[39m np\u001b[39m.\u001b[39marray([opp_matrix_gaussian[p[\u001b[39m0\u001b[39m],p[\u001b[39m1\u001b[39m]] \u001b[39mfor\u001b[39;00m p \u001b[39min\u001b[39;00m pairs \u001b[39mif\u001b[39;00m point_inside_triangle(shot_binned,GOAL_LEFT_BINNED,GOAL_RIGHT_BINNED,p)])\n\u001b[0;32m    115\u001b[0m inside_circle \u001b[39m=\u001b[39m np\u001b[39m.\u001b[39marray([opp_matrix_gaussian[p[\u001b[39m0\u001b[39m],p[\u001b[39m1\u001b[39m]] \u001b[39mfor\u001b[39;00m p \u001b[39min\u001b[39;00m pairs \u001b[39mif\u001b[39;00m point_inside_circle(p,shot_binned,pr)])\n\u001b[0;32m    116\u001b[0m \u001b[39mreturn\u001b[39;00m inside_triangle\u001b[39m.\u001b[39msum(),inside_circle\u001b[39m.\u001b[39msum()\n",
      "File \u001b[1;32mc:\\Users\\Gabriel\\Desktop\\TCCv2\\xg\\features_new.py:113\u001b[0m, in \u001b[0;36m<listcomp>\u001b[1;34m(.0)\u001b[0m\n\u001b[0;32m    109\u001b[0m a,b \u001b[39m=\u001b[39m opp_matrix_gaussian\u001b[39m.\u001b[39mnonzero()\n\u001b[0;32m    110\u001b[0m pairs \u001b[39m=\u001b[39m np\u001b[39m.\u001b[39marray(\u001b[39mlist\u001b[39m(\u001b[39mzip\u001b[39m(a,b)))\n\u001b[1;32m--> 113\u001b[0m inside_triangle \u001b[39m=\u001b[39m np\u001b[39m.\u001b[39marray([opp_matrix_gaussian[p[\u001b[39m0\u001b[39m],p[\u001b[39m1\u001b[39m]] \u001b[39mfor\u001b[39;00m p \u001b[39min\u001b[39;00m pairs \u001b[39mif\u001b[39;00m point_inside_triangle(shot_binned,GOAL_LEFT_BINNED,GOAL_RIGHT_BINNED,p)])\n\u001b[0;32m    115\u001b[0m inside_circle \u001b[39m=\u001b[39m np\u001b[39m.\u001b[39marray([opp_matrix_gaussian[p[\u001b[39m0\u001b[39m],p[\u001b[39m1\u001b[39m]] \u001b[39mfor\u001b[39;00m p \u001b[39min\u001b[39;00m pairs \u001b[39mif\u001b[39;00m point_inside_circle(p,shot_binned,pr)])\n\u001b[0;32m    116\u001b[0m \u001b[39mreturn\u001b[39;00m inside_triangle\u001b[39m.\u001b[39msum(),inside_circle\u001b[39m.\u001b[39msum()\n",
      "File \u001b[1;32mc:\\Users\\Gabriel\\Desktop\\TCCv2\\xg\\math_op.py:18\u001b[0m, in \u001b[0;36mpoint_inside_triangle\u001b[1;34m(a, b, c, point)\u001b[0m\n\u001b[0;32m     16\u001b[0m area \u001b[39m+\u001b[39m\u001b[39m=\u001b[39m triangle_area(a,b,point)\n\u001b[0;32m     17\u001b[0m area \u001b[39m+\u001b[39m\u001b[39m=\u001b[39m triangle_area(point,b,c)\n\u001b[1;32m---> 18\u001b[0m area \u001b[39m+\u001b[39m\u001b[39m=\u001b[39m triangle_area(a,point,c)\n\u001b[0;32m     20\u001b[0m \u001b[39mreturn\u001b[39;00m area \u001b[39m==\u001b[39m AREA\n",
      "File \u001b[1;32mc:\\Users\\Gabriel\\Desktop\\TCCv2\\xg\\math_op.py:10\u001b[0m, in \u001b[0;36mtriangle_area\u001b[1;34m(a, b, c)\u001b[0m\n\u001b[0;32m      7\u001b[0m AB \u001b[39m=\u001b[39m b \u001b[39m-\u001b[39m a\n\u001b[0;32m      8\u001b[0m AC \u001b[39m=\u001b[39m c \u001b[39m-\u001b[39m a\n\u001b[1;32m---> 10\u001b[0m \u001b[39mreturn\u001b[39;00m \u001b[39mabs\u001b[39m(np\u001b[39m.\u001b[39;49mcross(AB,AC)) \u001b[39m/\u001b[39m \u001b[39m2\u001b[39m\n",
      "File \u001b[1;32m~\\AppData\\Local\\Packages\\PythonSoftwareFoundation.Python.3.9_qbz5n2kfra8p0\\LocalCache\\local-packages\\Python39\\site-packages\\numpy\\core\\numeric.py:1608\u001b[0m, in \u001b[0;36mcross\u001b[1;34m(a, b, axisa, axisb, axisc, axis)\u001b[0m\n\u001b[0;32m   1605\u001b[0m cp \u001b[39m=\u001b[39m empty(shape, dtype)\n\u001b[0;32m   1607\u001b[0m \u001b[39m# recast arrays as dtype\u001b[39;00m\n\u001b[1;32m-> 1608\u001b[0m a \u001b[39m=\u001b[39m a\u001b[39m.\u001b[39;49mastype(dtype)\n\u001b[0;32m   1609\u001b[0m b \u001b[39m=\u001b[39m b\u001b[39m.\u001b[39mastype(dtype)\n\u001b[0;32m   1611\u001b[0m \u001b[39m# create local aliases for readability\u001b[39;00m\n",
      "\u001b[1;31mKeyboardInterrupt\u001b[0m: "
     ]
    }
   ],
   "source": [
    "pa = STATSBOMB.apply(lambda x : players_between_goal(x['location_shot'],x['shot_freeze_frame_shot']),axis=1)\n",
    "STATSBOMB['players_between_shot_and_goal'] = [p[0] for p in pa]\n",
    "STATSBOMB['players_in_radius'] = [p[1] for p in pa]"
   ]
  },
  {
   "cell_type": "code",
   "execution_count": null,
   "metadata": {},
   "outputs": [
    {
     "name": "stderr",
     "output_type": "stream",
     "text": [
      "C:\\Users\\Gabriel\\AppData\\Local\\Temp\\ipykernel_9688\\2671178545.py:1: SettingWithCopyWarning: \n",
      "A value is trying to be set on a copy of a slice from a DataFrame.\n",
      "Try using .loc[row_indexer,col_indexer] = value instead\n",
      "\n",
      "See the caveats in the documentation: https://pandas.pydata.org/pandas-docs/stable/user_guide/indexing.html#returning-a-view-versus-a-copy\n",
      "  STATSBOMB['goalkeeper_in_goal_pct'] = STATSBOMB.apply(lambda x : goalkeeper_between_goal(x['location_shot'],x['shot_freeze_frame_shot']),axis=1)\n"
     ]
    }
   ],
   "source": [
    "STATSBOMB['goalkeeper_in_goal_pct'] = STATSBOMB.apply(lambda x : goalkeeper_between_goal(x['location_shot'],x['shot_freeze_frame_shot']),axis=1)"
   ]
  },
  {
   "cell_type": "code",
   "execution_count": null,
   "metadata": {},
   "outputs": [
    {
     "name": "stderr",
     "output_type": "stream",
     "text": [
      "C:\\Users\\Gabriel\\AppData\\Local\\Temp\\ipykernel_9688\\43780980.py:1: SettingWithCopyWarning: \n",
      "A value is trying to be set on a copy of a slice from a DataFrame.\n",
      "Try using .loc[row_indexer,col_indexer] = value instead\n",
      "\n",
      "See the caveats in the documentation: https://pandas.pydata.org/pandas-docs/stable/user_guide/indexing.html#returning-a-view-versus-a-copy\n",
      "  STATSBOMB['goalkeeper_in_goal'] = STATSBOMB['goalkeeper_in_goal_pct'] > 0\n"
     ]
    }
   ],
   "source": [
    "STATSBOMB['goalkeeper_in_goal'] = STATSBOMB['goalkeeper_in_goal_pct'] > 0"
   ]
  },
  {
   "cell_type": "code",
   "execution_count": null,
   "metadata": {},
   "outputs": [],
   "source": [
    "STATSBOMBc = STATSBOMB.copy()"
   ]
  },
  {
   "cell_type": "code",
   "execution_count": null,
   "metadata": {},
   "outputs": [],
   "source": [
    "STATSBOMBc['players_behind_ball'] = STATSBOMBc.apply(lambda x : number_of_opp_player_after_ball_line(x['location_shot'],x['shot_freeze_frame_shot']),axis=1)"
   ]
  },
  {
   "cell_type": "code",
   "execution_count": null,
   "metadata": {},
   "outputs": [],
   "source": [
    "fillna = [\"shot_open_goal_shot\",\"shot_one_on_one_shot\",\"under_pressure_shot\",\"pass_cross_pass\",\"shot_first_time_shot\"]\n",
    "fill_not_pass = [\"pass_height_pass\",]"
   ]
  },
  {
   "cell_type": "code",
   "execution_count": null,
   "metadata": {},
   "outputs": [],
   "source": [
    "STATSBOMBc[fillna] = STATSBOMBc[fillna].fillna(False)\n",
    "STATSBOMBc[fill_not_pass] = STATSBOMBc[fill_not_pass].fillna(\"Not pass\")\n",
    "STATSBOMBc[\"goalkeeper_position\"] = STATSBOMBc[\"goalkeeper_position\"].fillna(\"Not in Goal\")\n",
    "STATSBOMBc['under_pressure'] = STATSBOMBc['players_in_radius'] >= 1"
   ]
  },
  {
   "cell_type": "code",
   "execution_count": null,
   "metadata": {},
   "outputs": [],
   "source": [
    "STATSBOMBc['x'] = STATSBOMBc['location_shot'].apply(lambda x : x[0])\n",
    "STATSBOMBc['y'] = STATSBOMBc['location_shot'].apply(lambda x : x[1])"
   ]
  },
  {
   "cell_type": "code",
   "execution_count": 14,
   "metadata": {},
   "outputs": [],
   "source": [
    "def split_data(df):\n",
    "    \n",
    "    \"\"\"Given dataframe, separate in train and test split.\"\"\"\n",
    "    LaLigaFilter = (df['league'] == 'La Liga') & (df['season'] == '2015/2016')\n",
    "    Xtrain = df[~LaLigaFilter].copy()\n",
    "    Xtest = df[LaLigaFilter].copy()\n",
    "    \n",
    "    return Xtrain, Xtest"
   ]
  },
  {
   "cell_type": "code",
   "execution_count": 15,
   "metadata": {},
   "outputs": [],
   "source": [
    "Xtrain,Xtest = split_data(STATSBOMBc)"
   ]
  },
  {
   "cell_type": "code",
   "execution_count": 16,
   "metadata": {},
   "outputs": [
    {
     "data": {
      "text/plain": [
       "Index(['location_shot', 'shot_first_time_shot', 'shot_technique_shot',\n",
       "       'shot_one_on_one_shot', 'shot_open_goal_shot', 'play_pattern_shot',\n",
       "       'player_shot', 'season', 'team_shot', 'league',\n",
       "       'shot_statsbomb_xg_shot', 'position_shot', 'pass_type_pass',\n",
       "       'pass_cross_pass', 'shot_body_part_shot', 'pass_height_pass',\n",
       "       'pass_technique_pass', 'goalkeeper_position', 'shot_freeze_frame_shot',\n",
       "       'under_pressure_shot', 'pass_length_pass', 'play_before_type',\n",
       "       'shot_outcome_shot', 'distance_to_goal', 'angle_to_goal',\n",
       "       'shot_body_part_mf', 'goal', 'goalkeeper_distance_to_goal',\n",
       "       'goalkeeper_distance_to_shot', 'players_between_shot_and_goal',\n",
       "       'players_in_radius', 'goalkeeper_in_goal_pct', 'goalkeeper_in_goal',\n",
       "       'players_behind_ball', 'under_pressure', 'x', 'y'],\n",
       "      dtype='object')"
      ]
     },
     "execution_count": 16,
     "metadata": {},
     "output_type": "execute_result"
    }
   ],
   "source": [
    "Xtrain.columns"
   ]
  },
  {
   "cell_type": "code",
   "execution_count": 17,
   "metadata": {},
   "outputs": [],
   "source": [
    "Xtrain.to_csv(\"Output/Train.csv\",index=False)"
   ]
  },
  {
   "cell_type": "code",
   "execution_count": 18,
   "metadata": {},
   "outputs": [],
   "source": [
    "Xtest.to_csv(\"Output/Test.csv\",index=False)"
   ]
  }
 ],
 "metadata": {
  "kernelspec": {
   "display_name": "Python 3",
   "language": "python",
   "name": "python3"
  },
  "language_info": {
   "codemirror_mode": {
    "name": "ipython",
    "version": 3
   },
   "file_extension": ".py",
   "mimetype": "text/x-python",
   "name": "python",
   "nbconvert_exporter": "python",
   "pygments_lexer": "ipython3",
   "version": "3.9.13"
  }
 },
 "nbformat": 4,
 "nbformat_minor": 2
}
